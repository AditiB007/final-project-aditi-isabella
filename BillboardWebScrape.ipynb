{
 "cells": [
  {
   "cell_type": "code",
   "execution_count": 8,
   "id": "eda750e4-ba9b-464d-a998-90ac80195664",
   "metadata": {},
   "outputs": [
    {
     "name": "stdout",
     "output_type": "stream",
     "text": [
      "0\n"
     ]
    }
   ],
   "source": [
    "from bs4 import  BeautifulSoup\n",
    "import requests\n",
    "#1Billboard Top 100\n",
    "response = requests.get(\"https://www.billboard.com/charts/hot-100\")\n",
    "response.content\n",
    "\n",
    "soup = BeautifulSoup(response.content, \"html.parser\")\n",
    "label = soup.select('article[class*=chart]') \n",
    "print(len(label))\n",
    "\n"
   ]
  },
  {
   "cell_type": "code",
   "execution_count": null,
   "id": "7d2574ab-ad75-4b92-966c-b7399174aa7d",
   "metadata": {},
   "outputs": [],
   "source": []
  }
 ],
 "metadata": {
  "kernelspec": {
   "display_name": "Python 3",
   "language": "python",
   "name": "python3"
  },
  "language_info": {
   "codemirror_mode": {
    "name": "ipython",
    "version": 3
   },
   "file_extension": ".py",
   "mimetype": "text/x-python",
   "name": "python",
   "nbconvert_exporter": "python",
   "pygments_lexer": "ipython3",
   "version": "3.8.10"
  }
 },
 "nbformat": 4,
 "nbformat_minor": 5
}
