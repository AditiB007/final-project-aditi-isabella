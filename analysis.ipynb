{
 "cells": [
  {
   "cell_type": "markdown",
   "id": "883f3765-b008-48ee-88d7-e1d66cbad20c",
   "metadata": {},
   "source": [
    "# Data Analysis "
   ]
  },
  {
   "cell_type": "markdown",
   "id": "852f33d1-557a-4af2-93e4-20443b37de87",
   "metadata": {},
   "source": [
    "#### Cleaning up df"
   ]
  },
  {
   "cell_type": "code",
   "execution_count": 1,
   "id": "eb901ce3-1694-4884-a199-8dfa74ca2c12",
   "metadata": {},
   "outputs": [
    {
     "data": {
      "text/html": [
       "<div>\n",
       "<style scoped>\n",
       "    .dataframe tbody tr th:only-of-type {\n",
       "        vertical-align: middle;\n",
       "    }\n",
       "\n",
       "    .dataframe tbody tr th {\n",
       "        vertical-align: top;\n",
       "    }\n",
       "\n",
       "    .dataframe thead th {\n",
       "        text-align: right;\n",
       "    }\n",
       "</style>\n",
       "<table border=\"1\" class=\"dataframe\">\n",
       "  <thead>\n",
       "    <tr style=\"text-align: right;\">\n",
       "      <th></th>\n",
       "      <th>Unnamed: 0</th>\n",
       "      <th>Title</th>\n",
       "      <th>Artist</th>\n",
       "      <th>Current Position</th>\n",
       "      <th>Last Week Position</th>\n",
       "      <th>Peak Position</th>\n",
       "      <th>Weeks On Chart</th>\n",
       "      <th>New to Chart?</th>\n",
       "    </tr>\n",
       "  </thead>\n",
       "  <tbody>\n",
       "    <tr>\n",
       "      <th>0</th>\n",
       "      <td>0</td>\n",
       "      <td>Stay</td>\n",
       "      <td>The Kid LAROI &amp; Justin Bieber</td>\n",
       "      <td>1</td>\n",
       "      <td>1</td>\n",
       "      <td>1</td>\n",
       "      <td>5</td>\n",
       "      <td>False</td>\n",
       "    </tr>\n",
       "    <tr>\n",
       "      <th>1</th>\n",
       "      <td>1</td>\n",
       "      <td>Good 4 U</td>\n",
       "      <td>Olivia Rodrigo</td>\n",
       "      <td>2</td>\n",
       "      <td>2</td>\n",
       "      <td>1</td>\n",
       "      <td>13</td>\n",
       "      <td>False</td>\n",
       "    </tr>\n",
       "    <tr>\n",
       "      <th>2</th>\n",
       "      <td>2</td>\n",
       "      <td>Bad Habits</td>\n",
       "      <td>Ed Sheeran</td>\n",
       "      <td>3</td>\n",
       "      <td>5</td>\n",
       "      <td>3</td>\n",
       "      <td>7</td>\n",
       "      <td>False</td>\n",
       "    </tr>\n",
       "    <tr>\n",
       "      <th>3</th>\n",
       "      <td>3</td>\n",
       "      <td>Kiss Me More</td>\n",
       "      <td>Doja Cat Featuring SZA</td>\n",
       "      <td>4</td>\n",
       "      <td>6</td>\n",
       "      <td>3</td>\n",
       "      <td>18</td>\n",
       "      <td>False</td>\n",
       "    </tr>\n",
       "    <tr>\n",
       "      <th>4</th>\n",
       "      <td>4</td>\n",
       "      <td>Levitating</td>\n",
       "      <td>Dua Lipa Featuring DaBaby</td>\n",
       "      <td>5</td>\n",
       "      <td>3</td>\n",
       "      <td>2</td>\n",
       "      <td>45</td>\n",
       "      <td>False</td>\n",
       "    </tr>\n",
       "    <tr>\n",
       "      <th>...</th>\n",
       "      <td>...</td>\n",
       "      <td>...</td>\n",
       "      <td>...</td>\n",
       "      <td>...</td>\n",
       "      <td>...</td>\n",
       "      <td>...</td>\n",
       "      <td>...</td>\n",
       "      <td>...</td>\n",
       "    </tr>\n",
       "    <tr>\n",
       "      <th>95</th>\n",
       "      <td>95</td>\n",
       "      <td>Next Girl</td>\n",
       "      <td>Carly Pearce</td>\n",
       "      <td>96</td>\n",
       "      <td>0</td>\n",
       "      <td>86</td>\n",
       "      <td>3</td>\n",
       "      <td>False</td>\n",
       "    </tr>\n",
       "    <tr>\n",
       "      <th>96</th>\n",
       "      <td>96</td>\n",
       "      <td>Happier</td>\n",
       "      <td>Olivia Rodrigo</td>\n",
       "      <td>97</td>\n",
       "      <td>93</td>\n",
       "      <td>15</td>\n",
       "      <td>12</td>\n",
       "      <td>False</td>\n",
       "    </tr>\n",
       "    <tr>\n",
       "      <th>97</th>\n",
       "      <td>97</td>\n",
       "      <td>Twerkulator</td>\n",
       "      <td>City Girls</td>\n",
       "      <td>98</td>\n",
       "      <td>0</td>\n",
       "      <td>51</td>\n",
       "      <td>9</td>\n",
       "      <td>False</td>\n",
       "    </tr>\n",
       "    <tr>\n",
       "      <th>98</th>\n",
       "      <td>98</td>\n",
       "      <td>Fiel</td>\n",
       "      <td>Los Legendarios, Wisin &amp; Jhay Cortez</td>\n",
       "      <td>99</td>\n",
       "      <td>97</td>\n",
       "      <td>62</td>\n",
       "      <td>9</td>\n",
       "      <td>False</td>\n",
       "    </tr>\n",
       "    <tr>\n",
       "      <th>99</th>\n",
       "      <td>99</td>\n",
       "      <td>Rare</td>\n",
       "      <td>Nas</td>\n",
       "      <td>100</td>\n",
       "      <td>0</td>\n",
       "      <td>100</td>\n",
       "      <td>1</td>\n",
       "      <td>True</td>\n",
       "    </tr>\n",
       "  </tbody>\n",
       "</table>\n",
       "<p>100 rows × 8 columns</p>\n",
       "</div>"
      ],
      "text/plain": [
       "    Unnamed: 0         Title                                Artist  \\\n",
       "0            0          Stay         The Kid LAROI & Justin Bieber   \n",
       "1            1      Good 4 U                        Olivia Rodrigo   \n",
       "2            2    Bad Habits                            Ed Sheeran   \n",
       "3            3  Kiss Me More                Doja Cat Featuring SZA   \n",
       "4            4    Levitating             Dua Lipa Featuring DaBaby   \n",
       "..         ...           ...                                   ...   \n",
       "95          95     Next Girl                          Carly Pearce   \n",
       "96          96       Happier                        Olivia Rodrigo   \n",
       "97          97   Twerkulator                            City Girls   \n",
       "98          98          Fiel  Los Legendarios, Wisin & Jhay Cortez   \n",
       "99          99          Rare                                   Nas   \n",
       "\n",
       "    Current Position  Last Week Position  Peak Position  Weeks On Chart  \\\n",
       "0                  1                   1              1               5   \n",
       "1                  2                   2              1              13   \n",
       "2                  3                   5              3               7   \n",
       "3                  4                   6              3              18   \n",
       "4                  5                   3              2              45   \n",
       "..               ...                 ...            ...             ...   \n",
       "95                96                   0             86               3   \n",
       "96                97                  93             15              12   \n",
       "97                98                   0             51               9   \n",
       "98                99                  97             62               9   \n",
       "99               100                   0            100               1   \n",
       "\n",
       "    New to Chart?  \n",
       "0           False  \n",
       "1           False  \n",
       "2           False  \n",
       "3           False  \n",
       "4           False  \n",
       "..            ...  \n",
       "95          False  \n",
       "96          False  \n",
       "97          False  \n",
       "98          False  \n",
       "99           True  \n",
       "\n",
       "[100 rows x 8 columns]"
      ]
     },
     "execution_count": 1,
     "metadata": {},
     "output_type": "execute_result"
    }
   ],
   "source": [
    "import pandas as pd\n",
    "import matplotlib.pyplot as plt\n",
    "import numpy as np\n",
    "df_bill = pd.read_csv(\"Billboard_Hot_100.csv\")\n",
    "df_bill"
   ]
  },
  {
   "cell_type": "code",
   "execution_count": 2,
   "id": "df0c12ae-4671-4d2e-b9fc-db04950393e7",
   "metadata": {},
   "outputs": [
    {
     "data": {
      "text/html": [
       "<div>\n",
       "<style scoped>\n",
       "    .dataframe tbody tr th:only-of-type {\n",
       "        vertical-align: middle;\n",
       "    }\n",
       "\n",
       "    .dataframe tbody tr th {\n",
       "        vertical-align: top;\n",
       "    }\n",
       "\n",
       "    .dataframe thead th {\n",
       "        text-align: right;\n",
       "    }\n",
       "</style>\n",
       "<table border=\"1\" class=\"dataframe\">\n",
       "  <thead>\n",
       "    <tr style=\"text-align: right;\">\n",
       "      <th></th>\n",
       "      <th>Title</th>\n",
       "      <th>Artist</th>\n",
       "      <th>Current Position</th>\n",
       "      <th>Last Week Position</th>\n",
       "      <th>Peak Position</th>\n",
       "      <th>Weeks On Chart</th>\n",
       "      <th>New to Chart?</th>\n",
       "    </tr>\n",
       "  </thead>\n",
       "  <tbody>\n",
       "    <tr>\n",
       "      <th>0</th>\n",
       "      <td>Stay</td>\n",
       "      <td>The Kid LAROI &amp; Justin Bieber</td>\n",
       "      <td>1</td>\n",
       "      <td>1</td>\n",
       "      <td>1</td>\n",
       "      <td>5</td>\n",
       "      <td>False</td>\n",
       "    </tr>\n",
       "    <tr>\n",
       "      <th>1</th>\n",
       "      <td>Good 4 U</td>\n",
       "      <td>Olivia Rodrigo</td>\n",
       "      <td>2</td>\n",
       "      <td>2</td>\n",
       "      <td>1</td>\n",
       "      <td>13</td>\n",
       "      <td>False</td>\n",
       "    </tr>\n",
       "    <tr>\n",
       "      <th>2</th>\n",
       "      <td>Bad Habits</td>\n",
       "      <td>Ed Sheeran</td>\n",
       "      <td>3</td>\n",
       "      <td>5</td>\n",
       "      <td>3</td>\n",
       "      <td>7</td>\n",
       "      <td>False</td>\n",
       "    </tr>\n",
       "    <tr>\n",
       "      <th>3</th>\n",
       "      <td>Kiss Me More</td>\n",
       "      <td>Doja Cat Featuring SZA</td>\n",
       "      <td>4</td>\n",
       "      <td>6</td>\n",
       "      <td>3</td>\n",
       "      <td>18</td>\n",
       "      <td>False</td>\n",
       "    </tr>\n",
       "    <tr>\n",
       "      <th>4</th>\n",
       "      <td>Levitating</td>\n",
       "      <td>Dua Lipa Featuring DaBaby</td>\n",
       "      <td>5</td>\n",
       "      <td>3</td>\n",
       "      <td>2</td>\n",
       "      <td>45</td>\n",
       "      <td>False</td>\n",
       "    </tr>\n",
       "    <tr>\n",
       "      <th>...</th>\n",
       "      <td>...</td>\n",
       "      <td>...</td>\n",
       "      <td>...</td>\n",
       "      <td>...</td>\n",
       "      <td>...</td>\n",
       "      <td>...</td>\n",
       "      <td>...</td>\n",
       "    </tr>\n",
       "    <tr>\n",
       "      <th>95</th>\n",
       "      <td>Next Girl</td>\n",
       "      <td>Carly Pearce</td>\n",
       "      <td>96</td>\n",
       "      <td>0</td>\n",
       "      <td>86</td>\n",
       "      <td>3</td>\n",
       "      <td>False</td>\n",
       "    </tr>\n",
       "    <tr>\n",
       "      <th>96</th>\n",
       "      <td>Happier</td>\n",
       "      <td>Olivia Rodrigo</td>\n",
       "      <td>97</td>\n",
       "      <td>93</td>\n",
       "      <td>15</td>\n",
       "      <td>12</td>\n",
       "      <td>False</td>\n",
       "    </tr>\n",
       "    <tr>\n",
       "      <th>97</th>\n",
       "      <td>Twerkulator</td>\n",
       "      <td>City Girls</td>\n",
       "      <td>98</td>\n",
       "      <td>0</td>\n",
       "      <td>51</td>\n",
       "      <td>9</td>\n",
       "      <td>False</td>\n",
       "    </tr>\n",
       "    <tr>\n",
       "      <th>98</th>\n",
       "      <td>Fiel</td>\n",
       "      <td>Los Legendarios, Wisin &amp; Jhay Cortez</td>\n",
       "      <td>99</td>\n",
       "      <td>97</td>\n",
       "      <td>62</td>\n",
       "      <td>9</td>\n",
       "      <td>False</td>\n",
       "    </tr>\n",
       "    <tr>\n",
       "      <th>99</th>\n",
       "      <td>Rare</td>\n",
       "      <td>Nas</td>\n",
       "      <td>100</td>\n",
       "      <td>0</td>\n",
       "      <td>100</td>\n",
       "      <td>1</td>\n",
       "      <td>True</td>\n",
       "    </tr>\n",
       "  </tbody>\n",
       "</table>\n",
       "<p>100 rows × 7 columns</p>\n",
       "</div>"
      ],
      "text/plain": [
       "           Title                                Artist  Current Position  \\\n",
       "0           Stay         The Kid LAROI & Justin Bieber                 1   \n",
       "1       Good 4 U                        Olivia Rodrigo                 2   \n",
       "2     Bad Habits                            Ed Sheeran                 3   \n",
       "3   Kiss Me More                Doja Cat Featuring SZA                 4   \n",
       "4     Levitating             Dua Lipa Featuring DaBaby                 5   \n",
       "..           ...                                   ...               ...   \n",
       "95     Next Girl                          Carly Pearce                96   \n",
       "96       Happier                        Olivia Rodrigo                97   \n",
       "97   Twerkulator                            City Girls                98   \n",
       "98          Fiel  Los Legendarios, Wisin & Jhay Cortez                99   \n",
       "99          Rare                                   Nas               100   \n",
       "\n",
       "    Last Week Position  Peak Position  Weeks On Chart  New to Chart?  \n",
       "0                    1              1               5          False  \n",
       "1                    2              1              13          False  \n",
       "2                    5              3               7          False  \n",
       "3                    6              3              18          False  \n",
       "4                    3              2              45          False  \n",
       "..                 ...            ...             ...            ...  \n",
       "95                   0             86               3          False  \n",
       "96                  93             15              12          False  \n",
       "97                   0             51               9          False  \n",
       "98                  97             62               9          False  \n",
       "99                   0            100               1           True  \n",
       "\n",
       "[100 rows x 7 columns]"
      ]
     },
     "execution_count": 2,
     "metadata": {},
     "output_type": "execute_result"
    }
   ],
   "source": [
    "df_bill = df_bill.loc[:, ~df_bill.columns.str.contains('^Unnamed')] #removes unnamed column\n",
    "df_bill"
   ]
  },
  {
   "cell_type": "code",
   "execution_count": 3,
   "id": "752c3f00-88ae-4eb3-a4e8-900130eeae79",
   "metadata": {},
   "outputs": [
    {
     "data": {
      "text/html": [
       "<div>\n",
       "<style scoped>\n",
       "    .dataframe tbody tr th:only-of-type {\n",
       "        vertical-align: middle;\n",
       "    }\n",
       "\n",
       "    .dataframe tbody tr th {\n",
       "        vertical-align: top;\n",
       "    }\n",
       "\n",
       "    .dataframe thead th {\n",
       "        text-align: right;\n",
       "    }\n",
       "</style>\n",
       "<table border=\"1\" class=\"dataframe\">\n",
       "  <thead>\n",
       "    <tr style=\"text-align: right;\">\n",
       "      <th></th>\n",
       "      <th>Unnamed: 0</th>\n",
       "      <th>Song</th>\n",
       "      <th>Artist</th>\n",
       "      <th>Time</th>\n",
       "    </tr>\n",
       "  </thead>\n",
       "  <tbody>\n",
       "    <tr>\n",
       "      <th>0</th>\n",
       "      <td>1</td>\n",
       "      <td>STAY</td>\n",
       "      <td>The Kid LAROI &amp;  Justin Bieber</td>\n",
       "      <td>2:21</td>\n",
       "    </tr>\n",
       "    <tr>\n",
       "      <th>1</th>\n",
       "      <td>2</td>\n",
       "      <td>INDUSTRY BABY</td>\n",
       "      <td>Lil Nas X &amp;  Jack Harlow</td>\n",
       "      <td>3:32</td>\n",
       "    </tr>\n",
       "    <tr>\n",
       "      <th>2</th>\n",
       "      <td>3</td>\n",
       "      <td>Bad Habits</td>\n",
       "      <td>Ed Sheeran</td>\n",
       "      <td>3:51</td>\n",
       "    </tr>\n",
       "    <tr>\n",
       "      <th>3</th>\n",
       "      <td>4</td>\n",
       "      <td>Happier Than Ever</td>\n",
       "      <td>Billie Eilish</td>\n",
       "      <td>4:58</td>\n",
       "    </tr>\n",
       "    <tr>\n",
       "      <th>4</th>\n",
       "      <td>5</td>\n",
       "      <td>good 4 u</td>\n",
       "      <td>Olivia Rodrigo</td>\n",
       "      <td>2:58</td>\n",
       "    </tr>\n",
       "    <tr>\n",
       "      <th>...</th>\n",
       "      <td>...</td>\n",
       "      <td>...</td>\n",
       "      <td>...</td>\n",
       "      <td>...</td>\n",
       "    </tr>\n",
       "    <tr>\n",
       "      <th>95</th>\n",
       "      <td>96</td>\n",
       "      <td>Hellcats &amp; Trackhawks</td>\n",
       "      <td>Only The Family &amp;  Lil Durk</td>\n",
       "      <td>2:26</td>\n",
       "    </tr>\n",
       "    <tr>\n",
       "      <th>96</th>\n",
       "      <td>97</td>\n",
       "      <td>jealousy, jealousy</td>\n",
       "      <td>Olivia Rodrigo</td>\n",
       "      <td>2:53</td>\n",
       "    </tr>\n",
       "    <tr>\n",
       "      <th>97</th>\n",
       "      <td>98</td>\n",
       "      <td>m y . l i f e</td>\n",
       "      <td>J. Cole,  21 Savage, &amp;  Morray</td>\n",
       "      <td>3:38</td>\n",
       "    </tr>\n",
       "    <tr>\n",
       "      <th>98</th>\n",
       "      <td>99</td>\n",
       "      <td>AM Remix</td>\n",
       "      <td>Nio García,  J Balvin, &amp;  Bad Bunny</td>\n",
       "      <td>4:21</td>\n",
       "    </tr>\n",
       "    <tr>\n",
       "      <th>99</th>\n",
       "      <td>100</td>\n",
       "      <td>Beautiful Mistakes</td>\n",
       "      <td>Maroon 5 &amp;  Megan Thee Stallion</td>\n",
       "      <td>3:47</td>\n",
       "    </tr>\n",
       "  </tbody>\n",
       "</table>\n",
       "<p>100 rows × 4 columns</p>\n",
       "</div>"
      ],
      "text/plain": [
       "    Unnamed: 0                   Song                               Artist  \\\n",
       "0            1                   STAY       The Kid LAROI &  Justin Bieber   \n",
       "1            2          INDUSTRY BABY             Lil Nas X &  Jack Harlow   \n",
       "2            3             Bad Habits                           Ed Sheeran   \n",
       "3            4      Happier Than Ever                        Billie Eilish   \n",
       "4            5               good 4 u                       Olivia Rodrigo   \n",
       "..         ...                    ...                                  ...   \n",
       "95          96  Hellcats & Trackhawks          Only The Family &  Lil Durk   \n",
       "96          97     jealousy, jealousy                       Olivia Rodrigo   \n",
       "97          98          m y . l i f e       J. Cole,  21 Savage, &  Morray   \n",
       "98          99               AM Remix  Nio García,  J Balvin, &  Bad Bunny   \n",
       "99         100     Beautiful Mistakes      Maroon 5 &  Megan Thee Stallion   \n",
       "\n",
       "    Time  \n",
       "0   2:21  \n",
       "1   3:32  \n",
       "2   3:51  \n",
       "3   4:58  \n",
       "4   2:58  \n",
       "..   ...  \n",
       "95  2:26  \n",
       "96  2:53  \n",
       "97  3:38  \n",
       "98  4:21  \n",
       "99  3:47  \n",
       "\n",
       "[100 rows x 4 columns]"
      ]
     },
     "execution_count": 3,
     "metadata": {},
     "output_type": "execute_result"
    }
   ],
   "source": [
    "df_apple = df_apple = pd.read_csv(\"Apple_Music_Global_Top_100.csv\") \n",
    "df_apple"
   ]
  },
  {
   "cell_type": "code",
   "execution_count": 4,
   "id": "e99e75f7-77a2-4cd2-a34d-bf7c629d57dc",
   "metadata": {},
   "outputs": [
    {
     "data": {
      "text/html": [
       "<div>\n",
       "<style scoped>\n",
       "    .dataframe tbody tr th:only-of-type {\n",
       "        vertical-align: middle;\n",
       "    }\n",
       "\n",
       "    .dataframe tbody tr th {\n",
       "        vertical-align: top;\n",
       "    }\n",
       "\n",
       "    .dataframe thead th {\n",
       "        text-align: right;\n",
       "    }\n",
       "</style>\n",
       "<table border=\"1\" class=\"dataframe\">\n",
       "  <thead>\n",
       "    <tr style=\"text-align: right;\">\n",
       "      <th></th>\n",
       "      <th>Song</th>\n",
       "      <th>Artist</th>\n",
       "      <th>Time</th>\n",
       "    </tr>\n",
       "  </thead>\n",
       "  <tbody>\n",
       "    <tr>\n",
       "      <th>0</th>\n",
       "      <td>STAY</td>\n",
       "      <td>The Kid LAROI &amp;  Justin Bieber</td>\n",
       "      <td>2:21</td>\n",
       "    </tr>\n",
       "    <tr>\n",
       "      <th>1</th>\n",
       "      <td>INDUSTRY BABY</td>\n",
       "      <td>Lil Nas X &amp;  Jack Harlow</td>\n",
       "      <td>3:32</td>\n",
       "    </tr>\n",
       "    <tr>\n",
       "      <th>2</th>\n",
       "      <td>Bad Habits</td>\n",
       "      <td>Ed Sheeran</td>\n",
       "      <td>3:51</td>\n",
       "    </tr>\n",
       "    <tr>\n",
       "      <th>3</th>\n",
       "      <td>Happier Than Ever</td>\n",
       "      <td>Billie Eilish</td>\n",
       "      <td>4:58</td>\n",
       "    </tr>\n",
       "    <tr>\n",
       "      <th>4</th>\n",
       "      <td>good 4 u</td>\n",
       "      <td>Olivia Rodrigo</td>\n",
       "      <td>2:58</td>\n",
       "    </tr>\n",
       "    <tr>\n",
       "      <th>...</th>\n",
       "      <td>...</td>\n",
       "      <td>...</td>\n",
       "      <td>...</td>\n",
       "    </tr>\n",
       "    <tr>\n",
       "      <th>95</th>\n",
       "      <td>Hellcats &amp; Trackhawks</td>\n",
       "      <td>Only The Family &amp;  Lil Durk</td>\n",
       "      <td>2:26</td>\n",
       "    </tr>\n",
       "    <tr>\n",
       "      <th>96</th>\n",
       "      <td>jealousy, jealousy</td>\n",
       "      <td>Olivia Rodrigo</td>\n",
       "      <td>2:53</td>\n",
       "    </tr>\n",
       "    <tr>\n",
       "      <th>97</th>\n",
       "      <td>m y . l i f e</td>\n",
       "      <td>J. Cole,  21 Savage, &amp;  Morray</td>\n",
       "      <td>3:38</td>\n",
       "    </tr>\n",
       "    <tr>\n",
       "      <th>98</th>\n",
       "      <td>AM Remix</td>\n",
       "      <td>Nio García,  J Balvin, &amp;  Bad Bunny</td>\n",
       "      <td>4:21</td>\n",
       "    </tr>\n",
       "    <tr>\n",
       "      <th>99</th>\n",
       "      <td>Beautiful Mistakes</td>\n",
       "      <td>Maroon 5 &amp;  Megan Thee Stallion</td>\n",
       "      <td>3:47</td>\n",
       "    </tr>\n",
       "  </tbody>\n",
       "</table>\n",
       "<p>100 rows × 3 columns</p>\n",
       "</div>"
      ],
      "text/plain": [
       "                     Song                               Artist  Time\n",
       "0                    STAY       The Kid LAROI &  Justin Bieber  2:21\n",
       "1           INDUSTRY BABY             Lil Nas X &  Jack Harlow  3:32\n",
       "2              Bad Habits                           Ed Sheeran  3:51\n",
       "3       Happier Than Ever                        Billie Eilish  4:58\n",
       "4                good 4 u                       Olivia Rodrigo  2:58\n",
       "..                    ...                                  ...   ...\n",
       "95  Hellcats & Trackhawks          Only The Family &  Lil Durk  2:26\n",
       "96     jealousy, jealousy                       Olivia Rodrigo  2:53\n",
       "97          m y . l i f e       J. Cole,  21 Savage, &  Morray  3:38\n",
       "98               AM Remix  Nio García,  J Balvin, &  Bad Bunny  4:21\n",
       "99     Beautiful Mistakes      Maroon 5 &  Megan Thee Stallion  3:47\n",
       "\n",
       "[100 rows x 3 columns]"
      ]
     },
     "execution_count": 4,
     "metadata": {},
     "output_type": "execute_result"
    }
   ],
   "source": [
    "df_apple = df_apple.loc[:, ~df_apple.columns.str.contains('^Unnamed')] #removes unnamed column\n",
    "df_apple"
   ]
  },
  {
   "cell_type": "markdown",
   "id": "81d8113c-73ed-4acf-9a77-06562427cf1c",
   "metadata": {},
   "source": [
    "#### Word Clouds"
   ]
  },
  {
   "cell_type": "code",
   "execution_count": 5,
   "id": "e0dec20d-8b6a-4f23-b53c-a8655968798f",
   "metadata": {},
   "outputs": [
    {
     "data": {
      "image/png": "[encoded data removed]",
      "text/plain": [
       "<Figure size 432x288 with 1 Axes>"
      ]
     },
     "metadata": {
      "needs_background": "light"
     },
     "output_type": "display_data"
    }
   ],
   "source": [
    "from wordcloud import WordCloud, STOPWORDS,ImageColorGenerator\n",
    "from PIL import Image\n",
    "\n",
    "col = ['Title']\n",
    "find = pd.read_csv('Billboard_Hot_100.csv', usecols=col)\n",
    "join = ' '.join(find['Title'])\n",
    "bill = np.array(Image.open( \"billboard.jpg\")) \n",
    "wordcloud = WordCloud( background_color ='white', mask = bill).generate(join)\n",
    "# Generate plot\n",
    "plt.imshow(wordcloud)\n",
    "plt.axis(\"off\")\n",
    "plt.show()\n"
   ]
  },
  {
   "cell_type": "code",
   "execution_count": 6,
   "id": "a2493788-b197-46c5-960f-03b4215d21be",
   "metadata": {},
   "outputs": [
    {
     "data": {
      "image/png": "[encoded data removed]",
      "text/plain": [
       "<Figure size 432x288 with 1 Axes>"
      ]
     },
     "metadata": {
      "needs_background": "light"
     },
     "output_type": "display_data"
    }
   ],
   "source": [
    "col2 = ['Song']\n",
    "stop_words = [\"feat\", \"the\",\"lil\" ,\"Baby\", \"Durk\", \"e\"]\n",
    "find2 = pd.read_csv('Apple_Music_Global_Top_100.csv', usecols=col2)\n",
    "join2 = ' '.join(find2['Song'])\n",
    "apple = np.array(Image.open( \"apple.jpg\")) \n",
    "wordcloud = WordCloud(background_color ='white', mask = apple, stopwords = stop_words).generate(join2)\n",
    "# Generate plot\n",
    "plt.imshow(wordcloud)\n",
    "plt.axis(\"off\")\n",
    "plt.show()"
   ]
  },
  {
   "cell_type": "markdown",
   "id": "a4a6e76e-2610-4596-bfc5-6498948eb6af",
   "metadata": {},
   "source": [
    "#### Popular Artists"
   ]
  },
  {
   "cell_type": "code",
   "execution_count": 7,
   "id": "356ac2fe-9884-4c27-b5a0-ab110e4bcfea",
   "metadata": {},
   "outputs": [
    {
     "data": {
      "text/plain": [
       "<AxesSubplot:title={'center':'Billboard Most Popular Artists'}, xlabel='Artist', ylabel='# of songs on chart'>"
      ]
     },
     "execution_count": 7,
     "metadata": {},
     "output_type": "execute_result"
    },
    {
     "data": {
      "image/png": "[encoded data removed]",
      "text/plain": [
       "<Figure size 432x288 with 1 Axes>"
      ]
     },
     "metadata": {
      "needs_background": "light"
     },
     "output_type": "display_data"
    }
   ],
   "source": [
    "topArtists_bill = df_bill['Artist'].value_counts()[0:7]\n",
    "#topArtists_bill\n",
    "topArtists_bill.plot.bar(color = \"pink\", title=\"Billboard Most Popular Artists\", xlabel='Artist', ylabel='# of songs on chart' ) \n",
    "#Artists With More Than 1 Song On Billboard Hot 100 Chart\n"
   ]
  },
  {
   "cell_type": "code",
   "execution_count": 8,
   "id": "f8ff548d-04c0-4e91-b929-0f58f99cac1e",
   "metadata": {},
   "outputs": [
    {
     "data": {
      "text/plain": [
       "<AxesSubplot:title={'center':'Apple Most Popular Artists'}, xlabel='Artist', ylabel='# of songs on chart'>"
      ]
     },
     "execution_count": 8,
     "metadata": {},
     "output_type": "execute_result"
    },
    {
     "data": {
      "image/png": "[encoded data removed]",
      "text/plain": [
       "<Figure size 432x288 with 1 Axes>"
      ]
     },
     "metadata": {
      "needs_background": "light"
     },
     "output_type": "display_data"
    }
   ],
   "source": [
    "topArtists_apple = df_apple['Artist'].value_counts()[0:16]\n",
    "#topArtists_apple\n",
    "topArtists_apple.plot.bar(color = \"pink\", title=\"Apple Most Popular Artists\",xlabel='Artist',ylabel='# of songs on chart'  )\n",
    "#Artists With More Than 1 Song On Apple Music Global Top 100 Chart"
   ]
  },
  {
   "cell_type": "markdown",
   "id": "55f57115-e39e-4238-bfbd-6fe4d27dc26c",
   "metadata": {},
   "source": [
    "Billboard has more variety of artists in the list since there are less artists who have more than 1 song on the chart. "
   ]
  },
  {
   "cell_type": "markdown",
   "id": "1950c60e-957b-4bd9-ba55-6517173f0ff6",
   "metadata": {},
   "source": [
    "#### Average Song Time"
   ]
  },
  {
   "cell_type": "code",
   "execution_count": 9,
   "id": "3a544ffe-bb24-4cd7-9809-3818476e48a0",
   "metadata": {},
   "outputs": [
    {
     "name": "stdout",
     "output_type": "stream",
     "text": [
      "Song      object\n",
      "Artist    object\n",
      "Time      object\n",
      "dtype: object\n"
     ]
    }
   ],
   "source": [
    "print(df_apple.dtypes) #Time is type object and must be changed to float to calc avg"
   ]
  },
  {
   "cell_type": "code",
   "execution_count": 10,
   "id": "eeecfe56-f0d6-4fee-a668-1fe02ffd319c",
   "metadata": {},
   "outputs": [
    {
     "name": "stderr",
     "output_type": "stream",
     "text": [
      "<ipython-input-10-8ec303b97233>:2: SettingWithCopyWarning: \n",
      "A value is trying to be set on a copy of a slice from a DataFrame.\n",
      "Try using .loc[row_indexer,col_indexer] = value instead\n",
      "\n",
      "See the caveats in the documentation: https://pandas.pydata.org/pandas-docs/stable/user_guide/indexing.html#returning-a-view-versus-a-copy\n",
      "  df_apple2[\"Time\"]=df_apple2[\"Time\"].str.replace(':','.') #replace : with . so time can be changed to float\n"
     ]
    },
    {
     "data": {
      "text/html": [
       "<div>\n",
       "<style scoped>\n",
       "    .dataframe tbody tr th:only-of-type {\n",
       "        vertical-align: middle;\n",
       "    }\n",
       "\n",
       "    .dataframe tbody tr th {\n",
       "        vertical-align: top;\n",
       "    }\n",
       "\n",
       "    .dataframe thead th {\n",
       "        text-align: right;\n",
       "    }\n",
       "</style>\n",
       "<table border=\"1\" class=\"dataframe\">\n",
       "  <thead>\n",
       "    <tr style=\"text-align: right;\">\n",
       "      <th></th>\n",
       "      <th>Song</th>\n",
       "      <th>Artist</th>\n",
       "      <th>Time</th>\n",
       "    </tr>\n",
       "  </thead>\n",
       "  <tbody>\n",
       "    <tr>\n",
       "      <th>0</th>\n",
       "      <td>STAY</td>\n",
       "      <td>The Kid LAROI &amp;  Justin Bieber</td>\n",
       "      <td>2.21</td>\n",
       "    </tr>\n",
       "    <tr>\n",
       "      <th>1</th>\n",
       "      <td>INDUSTRY BABY</td>\n",
       "      <td>Lil Nas X &amp;  Jack Harlow</td>\n",
       "      <td>3.32</td>\n",
       "    </tr>\n",
       "    <tr>\n",
       "      <th>2</th>\n",
       "      <td>Bad Habits</td>\n",
       "      <td>Ed Sheeran</td>\n",
       "      <td>3.51</td>\n",
       "    </tr>\n",
       "    <tr>\n",
       "      <th>3</th>\n",
       "      <td>Happier Than Ever</td>\n",
       "      <td>Billie Eilish</td>\n",
       "      <td>4.58</td>\n",
       "    </tr>\n",
       "    <tr>\n",
       "      <th>4</th>\n",
       "      <td>good 4 u</td>\n",
       "      <td>Olivia Rodrigo</td>\n",
       "      <td>2.58</td>\n",
       "    </tr>\n",
       "  </tbody>\n",
       "</table>\n",
       "</div>"
      ],
      "text/plain": [
       "                Song                          Artist  Time\n",
       "0               STAY  The Kid LAROI &  Justin Bieber  2.21\n",
       "1      INDUSTRY BABY        Lil Nas X &  Jack Harlow  3.32\n",
       "2         Bad Habits                      Ed Sheeran  3.51\n",
       "3  Happier Than Ever                   Billie Eilish  4.58\n",
       "4           good 4 u                  Olivia Rodrigo  2.58"
      ]
     },
     "execution_count": 10,
     "metadata": {},
     "output_type": "execute_result"
    }
   ],
   "source": [
    "df_apple2 =df_apple \n",
    "df_apple2[\"Time\"]=df_apple2[\"Time\"].str.replace(':','.') #replace : with . so time can be changed to float\n",
    "df_apple2.head(5)"
   ]
  },
  {
   "cell_type": "code",
   "execution_count": 11,
   "id": "f8418c93-6c63-43d4-96c8-bd34f42a7267",
   "metadata": {},
   "outputs": [
    {
     "name": "stdout",
     "output_type": "stream",
     "text": [
      "Song       object\n",
      "Artist     object\n",
      "Time      float64\n",
      "dtype: object\n"
     ]
    },
    {
     "name": "stderr",
     "output_type": "stream",
     "text": [
      "<ipython-input-11-5f08f546c8a4>:1: SettingWithCopyWarning: \n",
      "A value is trying to be set on a copy of a slice from a DataFrame.\n",
      "Try using .loc[row_indexer,col_indexer] = value instead\n",
      "\n",
      "See the caveats in the documentation: https://pandas.pydata.org/pandas-docs/stable/user_guide/indexing.html#returning-a-view-versus-a-copy\n",
      "  df_apple2[\"Time\"] = df_apple2[\"Time\"].astype(str).astype(float) #time is now a flaot\n"
     ]
    }
   ],
   "source": [
    "df_apple2[\"Time\"] = df_apple2[\"Time\"].astype(str).astype(float) #time is now a flaot\n",
    "print(df_apple2.dtypes)"
   ]
  },
  {
   "cell_type": "code",
   "execution_count": 12,
   "id": "27a9f0f8-5072-4da0-a794-d00b78bbe6e1",
   "metadata": {},
   "outputs": [
    {
     "name": "stdout",
     "output_type": "stream",
     "text": [
      "Avg song Time:  3.15 secs\n"
     ]
    }
   ],
   "source": [
    "print(\"Avg song Time: \",float(np.round(df_apple2.mean(),2)), \"secs\")"
   ]
  },
  {
   "cell_type": "code",
   "execution_count": 13,
   "id": "ad9b0ba0-abdd-4edd-b18c-6d2b2b9852f6",
   "metadata": {},
   "outputs": [
    {
     "name": "stdout",
     "output_type": "stream",
     "text": [
      "Median song Time:  3.18 secs\n"
     ]
    }
   ],
   "source": [
    "print(\"Median song Time: \",float(np.round(df_apple2.median(),2)),\"secs\")"
   ]
  },
  {
   "cell_type": "markdown",
   "id": "94e70f84-fc22-475d-b8fd-e9f6b3b44f49",
   "metadata": {},
   "source": [
    "Since the average and median song time are similar there is symmetrical distribution in the data."
   ]
  },
  {
   "cell_type": "markdown",
   "id": "1d52b37a-2c58-4d08-a0ed-3f2c23390f77",
   "metadata": {},
   "source": [
    "#### Popular Songs"
   ]
  },
  {
   "cell_type": "code",
   "execution_count": 14,
   "id": "712dd7a6-3eb5-44df-9905-2e69a6178230",
   "metadata": {},
   "outputs": [],
   "source": [
    "df_bill2 = df_bill.groupby('Title')['Weeks On Chart'].mean() "
   ]
  },
  {
   "cell_type": "code",
   "execution_count": 15,
   "id": "3150d9ea-4773-4c06-af6e-74e5b8ae0ea0",
   "metadata": {},
   "outputs": [
    {
     "data": {
      "text/plain": [
       "Title\n",
       "Blinding Lights                      88\n",
       "My Ex's Best Friend                  52\n",
       "Levitating                           45\n",
       "Forever After All                    42\n",
       "Without You                          36\n",
       "                                     ..\n",
       "Buy Dirt                              1\n",
       "Repeat It                             1\n",
       "Take My Breath                        1\n",
       "i hope ur miserable until ur dead     1\n",
       "Lose                                  1\n",
       "Name: Weeks On Chart, Length: 100, dtype: int64"
      ]
     },
     "execution_count": 15,
     "metadata": {},
     "output_type": "execute_result"
    }
   ],
   "source": [
    "#df_bill2.dtypes\n",
    "df_bill2 =df_bill2.sort_values(ascending=False)\n",
    "df_bill2"
   ]
  },
  {
   "cell_type": "code",
   "execution_count": 19,
   "id": "3a85e15f-8d87-4104-839b-7c06e253aa38",
   "metadata": {},
   "outputs": [
    {
     "data": {
      "text/plain": [
       "<AxesSubplot:title={'center':'Most popular Songs in Billboard Hot 100'}, xlabel='Song', ylabel='# of weeks on chart'>"
      ]
     },
     "execution_count": 19,
     "metadata": {},
     "output_type": "execute_result"
    },
    {
     "data": {
      "image/png": "[encoded data removed]",
      "text/plain": [
       "<Figure size 432x288 with 1 Axes>"
      ]
     },
     "metadata": {
      "needs_background": "light"
     },
     "output_type": "display_data"
    }
   ],
   "source": [
    "df_bill2.head(10).plot(kind = 'bar', color=['pink'], title=\"Most popular Songs in Billboard Hot 100\", xlabel='Song',ylabel='# of weeks on chart'  )\n",
    "#top 10, how many weeks a song has been in billboard hot 100"
   ]
  },
  {
   "cell_type": "markdown",
   "id": "2a95d9cb-fcbe-4ae6-9d0b-0dbb9a961905",
   "metadata": {},
   "source": [
    "#### Songs #1 on Billboard chart"
   ]
  },
  {
   "cell_type": "code",
   "execution_count": 17,
   "id": "b727f168-bed3-4b9e-96a8-9e52cc40753e",
   "metadata": {},
   "outputs": [
    {
     "data": {
      "text/plain": [
       "0        Stay\n",
       "1    Good 4 U\n",
       "2         NaN\n",
       "3         NaN\n",
       "4         NaN\n",
       "Name: Title, dtype: object"
      ]
     },
     "execution_count": 17,
     "metadata": {},
     "output_type": "execute_result"
    }
   ],
   "source": [
    "df_bill3 = df_bill['Title'].where(df_bill['Peak Position'] ==1) #songs who peaked at #1\n",
    "df_bill3.head(5)"
   ]
  },
  {
   "cell_type": "code",
   "execution_count": 18,
   "id": "698f7869-615a-439b-b984-f080bcebf239",
   "metadata": {},
   "outputs": [
    {
     "name": "stdout",
     "output_type": "stream",
     "text": [
      "Stay\n",
      "Good 4 U\n",
      "Butter\n",
      "Montero (Call Me By Your Name)\n",
      "Save Your Tears\n",
      "Peaches\n",
      "Leave The Door Open\n",
      "Blinding Lights\n",
      "Rapstar\n",
      "Permission To Dance\n"
     ]
    }
   ],
   "source": [
    "df_bill3 =df_bill3.dropna() \n",
    "list = df_bill3.values.tolist()\n",
    "print(\"\\n\".join(list))"
   ]
  },
  {
   "cell_type": "markdown",
   "id": "8b1f1292-8616-4a03-a823-cd3a014ad6fc",
   "metadata": {},
   "source": [
    "List of all the songs that peaked at #1 on the chart. "
   ]
  },
  {
   "cell_type": "code",
   "execution_count": null,
   "id": "2bcf0efd-15c1-4b10-94d9-fce218269fb2",
   "metadata": {},
   "outputs": [],
   "source": []
  }
 ],
 "metadata": {
  "kernelspec": {
   "display_name": "Python 3",
   "language": "python",
   "name": "python3"
  },
  "language_info": {
   "codemirror_mode": {
    "name": "ipython",
    "version": 3
   },
   "file_extension": ".py",
   "mimetype": "text/x-python",
   "name": "python",
   "nbconvert_exporter": "python",
   "pygments_lexer": "ipython3",
   "version": "3.8.10"
  }
 },
 "nbformat": 4,
 "nbformat_minor": 5
}
