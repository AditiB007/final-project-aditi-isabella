{
 "cells": [
  {
   "cell_type": "markdown",
   "id": "42d24a3a-4668-4584-82f2-a78313428654",
   "metadata": {},
   "source": [
    "# Machine Learning"
   ]
  },
  {
   "cell_type": "code",
   "execution_count": 1,
   "id": "364e9f6f-5328-4f40-8ee7-d11a7a4624e1",
   "metadata": {},
   "outputs": [
    {
     "data": {
      "text/html": [
       "<div>\n",
       "<style scoped>\n",
       "    .dataframe tbody tr th:only-of-type {\n",
       "        vertical-align: middle;\n",
       "    }\n",
       "\n",
       "    .dataframe tbody tr th {\n",
       "        vertical-align: top;\n",
       "    }\n",
       "\n",
       "    .dataframe thead th {\n",
       "        text-align: right;\n",
       "    }\n",
       "</style>\n",
       "<table border=\"1\" class=\"dataframe\">\n",
       "  <thead>\n",
       "    <tr style=\"text-align: right;\">\n",
       "      <th></th>\n",
       "      <th>Unnamed: 0</th>\n",
       "      <th>Title</th>\n",
       "      <th>Artist</th>\n",
       "      <th>Current Position</th>\n",
       "      <th>Last Week Position</th>\n",
       "      <th>Peak Position</th>\n",
       "      <th>Weeks On Chart</th>\n",
       "      <th>New to Chart?</th>\n",
       "    </tr>\n",
       "  </thead>\n",
       "  <tbody>\n",
       "    <tr>\n",
       "      <th>0</th>\n",
       "      <td>0</td>\n",
       "      <td>Stay</td>\n",
       "      <td>The Kid LAROI &amp; Justin Bieber</td>\n",
       "      <td>1</td>\n",
       "      <td>1</td>\n",
       "      <td>1</td>\n",
       "      <td>5</td>\n",
       "      <td>False</td>\n",
       "    </tr>\n",
       "    <tr>\n",
       "      <th>1</th>\n",
       "      <td>1</td>\n",
       "      <td>Good 4 U</td>\n",
       "      <td>Olivia Rodrigo</td>\n",
       "      <td>2</td>\n",
       "      <td>2</td>\n",
       "      <td>1</td>\n",
       "      <td>13</td>\n",
       "      <td>False</td>\n",
       "    </tr>\n",
       "    <tr>\n",
       "      <th>2</th>\n",
       "      <td>2</td>\n",
       "      <td>Bad Habits</td>\n",
       "      <td>Ed Sheeran</td>\n",
       "      <td>3</td>\n",
       "      <td>5</td>\n",
       "      <td>3</td>\n",
       "      <td>7</td>\n",
       "      <td>False</td>\n",
       "    </tr>\n",
       "    <tr>\n",
       "      <th>3</th>\n",
       "      <td>3</td>\n",
       "      <td>Kiss Me More</td>\n",
       "      <td>Doja Cat Featuring SZA</td>\n",
       "      <td>4</td>\n",
       "      <td>6</td>\n",
       "      <td>3</td>\n",
       "      <td>18</td>\n",
       "      <td>False</td>\n",
       "    </tr>\n",
       "    <tr>\n",
       "      <th>4</th>\n",
       "      <td>4</td>\n",
       "      <td>Levitating</td>\n",
       "      <td>Dua Lipa Featuring DaBaby</td>\n",
       "      <td>5</td>\n",
       "      <td>3</td>\n",
       "      <td>2</td>\n",
       "      <td>45</td>\n",
       "      <td>False</td>\n",
       "    </tr>\n",
       "    <tr>\n",
       "      <th>...</th>\n",
       "      <td>...</td>\n",
       "      <td>...</td>\n",
       "      <td>...</td>\n",
       "      <td>...</td>\n",
       "      <td>...</td>\n",
       "      <td>...</td>\n",
       "      <td>...</td>\n",
       "      <td>...</td>\n",
       "    </tr>\n",
       "    <tr>\n",
       "      <th>95</th>\n",
       "      <td>95</td>\n",
       "      <td>Next Girl</td>\n",
       "      <td>Carly Pearce</td>\n",
       "      <td>96</td>\n",
       "      <td>0</td>\n",
       "      <td>86</td>\n",
       "      <td>3</td>\n",
       "      <td>False</td>\n",
       "    </tr>\n",
       "    <tr>\n",
       "      <th>96</th>\n",
       "      <td>96</td>\n",
       "      <td>Happier</td>\n",
       "      <td>Olivia Rodrigo</td>\n",
       "      <td>97</td>\n",
       "      <td>93</td>\n",
       "      <td>15</td>\n",
       "      <td>12</td>\n",
       "      <td>False</td>\n",
       "    </tr>\n",
       "    <tr>\n",
       "      <th>97</th>\n",
       "      <td>97</td>\n",
       "      <td>Twerkulator</td>\n",
       "      <td>City Girls</td>\n",
       "      <td>98</td>\n",
       "      <td>0</td>\n",
       "      <td>51</td>\n",
       "      <td>9</td>\n",
       "      <td>False</td>\n",
       "    </tr>\n",
       "    <tr>\n",
       "      <th>98</th>\n",
       "      <td>98</td>\n",
       "      <td>Fiel</td>\n",
       "      <td>Los Legendarios, Wisin &amp; Jhay Cortez</td>\n",
       "      <td>99</td>\n",
       "      <td>97</td>\n",
       "      <td>62</td>\n",
       "      <td>9</td>\n",
       "      <td>False</td>\n",
       "    </tr>\n",
       "    <tr>\n",
       "      <th>99</th>\n",
       "      <td>99</td>\n",
       "      <td>Rare</td>\n",
       "      <td>Nas</td>\n",
       "      <td>100</td>\n",
       "      <td>0</td>\n",
       "      <td>100</td>\n",
       "      <td>1</td>\n",
       "      <td>True</td>\n",
       "    </tr>\n",
       "  </tbody>\n",
       "</table>\n",
       "<p>100 rows × 8 columns</p>\n",
       "</div>"
      ],
      "text/plain": [
       "    Unnamed: 0         Title                                Artist  \\\n",
       "0            0          Stay         The Kid LAROI & Justin Bieber   \n",
       "1            1      Good 4 U                        Olivia Rodrigo   \n",
       "2            2    Bad Habits                            Ed Sheeran   \n",
       "3            3  Kiss Me More                Doja Cat Featuring SZA   \n",
       "4            4    Levitating             Dua Lipa Featuring DaBaby   \n",
       "..         ...           ...                                   ...   \n",
       "95          95     Next Girl                          Carly Pearce   \n",
       "96          96       Happier                        Olivia Rodrigo   \n",
       "97          97   Twerkulator                            City Girls   \n",
       "98          98          Fiel  Los Legendarios, Wisin & Jhay Cortez   \n",
       "99          99          Rare                                   Nas   \n",
       "\n",
       "    Current Position  Last Week Position  Peak Position  Weeks On Chart  \\\n",
       "0                  1                   1              1               5   \n",
       "1                  2                   2              1              13   \n",
       "2                  3                   5              3               7   \n",
       "3                  4                   6              3              18   \n",
       "4                  5                   3              2              45   \n",
       "..               ...                 ...            ...             ...   \n",
       "95                96                   0             86               3   \n",
       "96                97                  93             15              12   \n",
       "97                98                   0             51               9   \n",
       "98                99                  97             62               9   \n",
       "99               100                   0            100               1   \n",
       "\n",
       "    New to Chart?  \n",
       "0           False  \n",
       "1           False  \n",
       "2           False  \n",
       "3           False  \n",
       "4           False  \n",
       "..            ...  \n",
       "95          False  \n",
       "96          False  \n",
       "97          False  \n",
       "98          False  \n",
       "99           True  \n",
       "\n",
       "[100 rows x 8 columns]"
      ]
     },
     "execution_count": 1,
     "metadata": {},
     "output_type": "execute_result"
    }
   ],
   "source": [
    "import pandas as pd\n",
    "\n",
    "df_bill = pd.read_csv(\"Billboard_Hot_100.csv\")\n",
    "df_bill"
   ]
  },
  {
   "cell_type": "code",
   "execution_count": 2,
   "id": "61c1cef1-2ae8-4d3c-a88f-5366cbc75e95",
   "metadata": {},
   "outputs": [
    {
     "data": {
      "text/html": [
       "<div>\n",
       "<style scoped>\n",
       "    .dataframe tbody tr th:only-of-type {\n",
       "        vertical-align: middle;\n",
       "    }\n",
       "\n",
       "    .dataframe tbody tr th {\n",
       "        vertical-align: top;\n",
       "    }\n",
       "\n",
       "    .dataframe thead th {\n",
       "        text-align: right;\n",
       "    }\n",
       "</style>\n",
       "<table border=\"1\" class=\"dataframe\">\n",
       "  <thead>\n",
       "    <tr style=\"text-align: right;\">\n",
       "      <th></th>\n",
       "      <th>Title</th>\n",
       "      <th>Artist</th>\n",
       "      <th>Current Position</th>\n",
       "      <th>Last Week Position</th>\n",
       "      <th>Peak Position</th>\n",
       "      <th>Weeks On Chart</th>\n",
       "      <th>New to Chart?</th>\n",
       "    </tr>\n",
       "  </thead>\n",
       "  <tbody>\n",
       "    <tr>\n",
       "      <th>0</th>\n",
       "      <td>Stay</td>\n",
       "      <td>The Kid LAROI &amp; Justin Bieber</td>\n",
       "      <td>1</td>\n",
       "      <td>1</td>\n",
       "      <td>1</td>\n",
       "      <td>5</td>\n",
       "      <td>False</td>\n",
       "    </tr>\n",
       "    <tr>\n",
       "      <th>1</th>\n",
       "      <td>Good 4 U</td>\n",
       "      <td>Olivia Rodrigo</td>\n",
       "      <td>2</td>\n",
       "      <td>2</td>\n",
       "      <td>1</td>\n",
       "      <td>13</td>\n",
       "      <td>False</td>\n",
       "    </tr>\n",
       "    <tr>\n",
       "      <th>2</th>\n",
       "      <td>Bad Habits</td>\n",
       "      <td>Ed Sheeran</td>\n",
       "      <td>3</td>\n",
       "      <td>5</td>\n",
       "      <td>3</td>\n",
       "      <td>7</td>\n",
       "      <td>False</td>\n",
       "    </tr>\n",
       "    <tr>\n",
       "      <th>3</th>\n",
       "      <td>Kiss Me More</td>\n",
       "      <td>Doja Cat Featuring SZA</td>\n",
       "      <td>4</td>\n",
       "      <td>6</td>\n",
       "      <td>3</td>\n",
       "      <td>18</td>\n",
       "      <td>False</td>\n",
       "    </tr>\n",
       "    <tr>\n",
       "      <th>4</th>\n",
       "      <td>Levitating</td>\n",
       "      <td>Dua Lipa Featuring DaBaby</td>\n",
       "      <td>5</td>\n",
       "      <td>3</td>\n",
       "      <td>2</td>\n",
       "      <td>45</td>\n",
       "      <td>False</td>\n",
       "    </tr>\n",
       "    <tr>\n",
       "      <th>...</th>\n",
       "      <td>...</td>\n",
       "      <td>...</td>\n",
       "      <td>...</td>\n",
       "      <td>...</td>\n",
       "      <td>...</td>\n",
       "      <td>...</td>\n",
       "      <td>...</td>\n",
       "    </tr>\n",
       "    <tr>\n",
       "      <th>95</th>\n",
       "      <td>Next Girl</td>\n",
       "      <td>Carly Pearce</td>\n",
       "      <td>96</td>\n",
       "      <td>0</td>\n",
       "      <td>86</td>\n",
       "      <td>3</td>\n",
       "      <td>False</td>\n",
       "    </tr>\n",
       "    <tr>\n",
       "      <th>96</th>\n",
       "      <td>Happier</td>\n",
       "      <td>Olivia Rodrigo</td>\n",
       "      <td>97</td>\n",
       "      <td>93</td>\n",
       "      <td>15</td>\n",
       "      <td>12</td>\n",
       "      <td>False</td>\n",
       "    </tr>\n",
       "    <tr>\n",
       "      <th>97</th>\n",
       "      <td>Twerkulator</td>\n",
       "      <td>City Girls</td>\n",
       "      <td>98</td>\n",
       "      <td>0</td>\n",
       "      <td>51</td>\n",
       "      <td>9</td>\n",
       "      <td>False</td>\n",
       "    </tr>\n",
       "    <tr>\n",
       "      <th>98</th>\n",
       "      <td>Fiel</td>\n",
       "      <td>Los Legendarios, Wisin &amp; Jhay Cortez</td>\n",
       "      <td>99</td>\n",
       "      <td>97</td>\n",
       "      <td>62</td>\n",
       "      <td>9</td>\n",
       "      <td>False</td>\n",
       "    </tr>\n",
       "    <tr>\n",
       "      <th>99</th>\n",
       "      <td>Rare</td>\n",
       "      <td>Nas</td>\n",
       "      <td>100</td>\n",
       "      <td>0</td>\n",
       "      <td>100</td>\n",
       "      <td>1</td>\n",
       "      <td>True</td>\n",
       "    </tr>\n",
       "  </tbody>\n",
       "</table>\n",
       "<p>100 rows × 7 columns</p>\n",
       "</div>"
      ],
      "text/plain": [
       "           Title                                Artist  Current Position  \\\n",
       "0           Stay         The Kid LAROI & Justin Bieber                 1   \n",
       "1       Good 4 U                        Olivia Rodrigo                 2   \n",
       "2     Bad Habits                            Ed Sheeran                 3   \n",
       "3   Kiss Me More                Doja Cat Featuring SZA                 4   \n",
       "4     Levitating             Dua Lipa Featuring DaBaby                 5   \n",
       "..           ...                                   ...               ...   \n",
       "95     Next Girl                          Carly Pearce                96   \n",
       "96       Happier                        Olivia Rodrigo                97   \n",
       "97   Twerkulator                            City Girls                98   \n",
       "98          Fiel  Los Legendarios, Wisin & Jhay Cortez                99   \n",
       "99          Rare                                   Nas               100   \n",
       "\n",
       "    Last Week Position  Peak Position  Weeks On Chart  New to Chart?  \n",
       "0                    1              1               5          False  \n",
       "1                    2              1              13          False  \n",
       "2                    5              3               7          False  \n",
       "3                    6              3              18          False  \n",
       "4                    3              2              45          False  \n",
       "..                 ...            ...             ...            ...  \n",
       "95                   0             86               3          False  \n",
       "96                  93             15              12          False  \n",
       "97                   0             51               9          False  \n",
       "98                  97             62               9          False  \n",
       "99                   0            100               1           True  \n",
       "\n",
       "[100 rows x 7 columns]"
      ]
     },
     "execution_count": 2,
     "metadata": {},
     "output_type": "execute_result"
    }
   ],
   "source": [
    "df_bill = df_bill.loc[:, ~df_bill.columns.str.contains('^Unnamed')] \n",
    "df_bill"
   ]
  },
  {
   "cell_type": "code",
   "execution_count": 3,
   "id": "c2b101ba-e3fa-4f71-afcb-3deedde065e7",
   "metadata": {},
   "outputs": [
    {
     "name": "stdout",
     "output_type": "stream",
     "text": [
      "['The Kid LAROI & Justin Bieber' 'Olivia Rodrigo' 'Ed Sheeran'\n",
      " 'Doja Cat Featuring SZA' 'Dua Lipa Featuring DaBaby' 'The Weeknd' 'BTS'\n",
      " 'Lil Nas X & Jack Harlow' 'Lil Nas X' 'The Weeknd & Ariana Grande'\n",
      " 'Justin Bieber Featuring Daniel Caesar & Giveon' 'Billie Eilish'\n",
      " 'Silk Sonic (Bruno Mars & Anderson .Paak)' 'Walker Hayes'\n",
      " 'Doja Cat & The Weeknd' 'Giveon' 'Marshmello X Jonas Brothers' 'Doja Cat'\n",
      " 'Dan + Shay' 'Aventura x Bad Bunny'\n",
      " 'DJ Khaled Featuring Lil Baby & Lil Durk' 'Luke Combs' 'Polo G'\n",
      " 'Roddy Ricch' 'Nelly & Florida Georgia Line' 'The Kid LAROI'\n",
      " 'Megan Thee Stallion' 'Masked Wolf' 'Glass Animals'\n",
      " 'Chris Young + Kane Brown' 'Luke Bryan'\n",
      " 'Maroon 5 Featuring Megan Thee Stallion' 'Kali Uchis'\n",
      " 'Chase Rice Featuring Florida Georgia Line' 'Lainey Wilson'\n",
      " 'Moneybagg Yo' 'Duncan Laurence' 'Machine Gun Kelly X blackbear'\n",
      " 'Thomas Rhett' 'Wizkid Featuring Tems' 'BIA Featuring Nicki Minaj'\n",
      " 'Cole Swindell' 'Post Malone' 'Ryan Hurd With Maren Morris' 'Maneskin'\n",
      " 'Jason Aldean & Carrie Underwood' 'Farruko' 'Sleepy Hallow'\n",
      " 'Jameson Rodgers Featuring Luke Combs' 'Bad Bunny' 'Rauw Alejandro'\n",
      " 'Justin Moore' 'Elle King & Miranda Lambert' 'Normani Featuring Cardi B'\n",
      " 'Regard x Troye Sivan x Tate McRae' 'Tai Verdes' 'Dua Lipa'\n",
      " 'Kane Brown X blackbear' 'Old Dominion' 'Camila Cabello'\n",
      " 'Jack Harlow & Pooh Shiesty' 'Rod Wave' 'Chris Stapleton' 'Elvie Shane'\n",
      " 'H.E.R. Featuring Chris Brown' 'Migos' 'J. Cole, 21 Savage & Morray'\n",
      " 'Lee Brice' 'Jason Aldean' 'Capella Grey' 'Nas Featuring Eminem & EPMD'\n",
      " 'Lil Tecca & Gunna' 'Scotty McCreery' 'Jordan Davis Featuring Luke Bryan'\n",
      " 'Nio Garcia X J Balvin X Bad Bunny' 'Smiley Featuring Drake'\n",
      " 'KSI x Lil Wayne' 'Lil Baby, Lil Durk & Travis Scott' 'Nessa Barrett'\n",
      " 'Yung Bleu, Chris Brown & 2 Chainz' 'DaBaby'\n",
      " 'The Kid LAROI Featuring Polo G & Stunna Gambino' 'Kenny Chesney'\n",
      " 'Tyler, The Creator Featuring YoungBoy Never Broke Again & Ty Dolla $ign'\n",
      " 'MO3 X OG Bobby Billions' 'Carly Pearce' 'City Girls'\n",
      " 'Los Legendarios, Wisin & Jhay Cortez' 'Nas']\n",
      "[False  True]\n",
      "[80 66 22 18 20 82  2 45 44 83 35  4 75 86 17 26 54 16 15  0 13 49 67 72\n",
      " 61 79 56 55 27 10 48 53 38  8 41 58 21 51 84 87  1 12 68 73 52 33 25 76\n",
      " 31  3 69 36 23 64 70 78 19 39 65  5 30 71  9 24 28 57 29 42 32  6 60 46\n",
      " 74 34 63 77 37 43 62 88 14 81 40 85 50  7 11 47 59]\n",
      "[0 1]\n"
     ]
    },
    {
     "name": "stderr",
     "output_type": "stream",
     "text": [
      "<ipython-input-3-9e765694068e>:8: SettingWithCopyWarning: \n",
      "A value is trying to be set on a copy of a slice from a DataFrame.\n",
      "Try using .loc[row_indexer,col_indexer] = value instead\n",
      "\n",
      "See the caveats in the documentation: https://pandas.pydata.org/pandas-docs/stable/user_guide/indexing.html#returning-a-view-versus-a-copy\n",
      "  df_bill['Artist'] = le.fit_transform(df_bill['Artist'])\n",
      "<ipython-input-3-9e765694068e>:9: SettingWithCopyWarning: \n",
      "A value is trying to be set on a copy of a slice from a DataFrame.\n",
      "Try using .loc[row_indexer,col_indexer] = value instead\n",
      "\n",
      "See the caveats in the documentation: https://pandas.pydata.org/pandas-docs/stable/user_guide/indexing.html#returning-a-view-versus-a-copy\n",
      "  df_bill['New to Chart?'] = le.fit_transform(df_bill['New to Chart?'])\n"
     ]
    }
   ],
   "source": [
    "from sklearn.preprocessing import StandardScaler\n",
    "from sklearn.preprocessing import LabelEncoder\n",
    "from sklearn.neighbors import KNeighborsClassifier\n",
    "\n",
    "le = LabelEncoder()\n",
    "print(df_bill['Artist'].unique())\n",
    "print(df_bill['New to Chart?'].unique())\n",
    "df_bill['Artist'] = le.fit_transform(df_bill['Artist'])\n",
    "df_bill['New to Chart?'] = le.fit_transform(df_bill['New to Chart?'])\n",
    "print(df_bill['Artist'].unique())\n",
    "print(df_bill['New to Chart?'].unique())"
   ]
  },
  {
   "cell_type": "markdown",
   "id": "7b950edd-ede2-4029-9a7a-5658d5ff7dee",
   "metadata": {},
   "source": [
    "## Peak Position Prediction Based Only on Artist"
   ]
  },
  {
   "cell_type": "markdown",
   "id": "c1e6522d-b7f6-4396-a89a-8ffecc391aff",
   "metadata": {},
   "source": [
    "We want to predict what Peak Position for an artist's next song would be based on data trained using only the Artist column and using K-Nearest Neighbors. We'll be using Olivia Rodrigo, Doja Cat, Billie Eilish, and BTS. We've chosen to use these specific artists because they seem to be the ones with the most songs on the BillBoard at once (refer to Data Analysis notebook). "
   ]
  },
  {
   "cell_type": "code",
   "execution_count": 4,
   "id": "4020407e-dfa5-4839-b564-4f0108da91fe",
   "metadata": {},
   "outputs": [
    {
     "name": "stderr",
     "output_type": "stream",
     "text": [
      "<ipython-input-4-522c3c700b8e>:5: DeprecationWarning: The default dtype for empty Series will be 'object' instead of 'float64' in a future version. Specify a dtype explicitly to silence this warning.\n",
      "  x_new = pd.Series()\n"
     ]
    },
    {
     "data": {
      "text/plain": [
       "array([1])"
      ]
     },
     "execution_count": 4,
     "metadata": {},
     "output_type": "execute_result"
    }
   ],
   "source": [
    "scaler = StandardScaler()\n",
    "\n",
    "X_train = df_bill[[\"Artist\"]]\n",
    "X_train_st = scaler.fit_transform(X_train)\n",
    "x_new = pd.Series()\n",
    "x_new[\"Artist\"] = 66\n",
    "X_new_st = scaler.transform(pd.DataFrame([x_new]))\n",
    "y_train = df_bill[\"Peak Position\"]\n",
    "\n",
    "model = KNeighborsClassifier(n_neighbors=5)\n",
    "model.fit(X=X_train_st, y=y_train)\n",
    "model.predict(X=X_new_st)"
   ]
  },
  {
   "cell_type": "markdown",
   "id": "adccb1a3-2c8a-44f6-9820-629b6365c9b1",
   "metadata": {},
   "source": [
    "Peak Position prediction for Olivia Rodrigo: 1"
   ]
  },
  {
   "cell_type": "code",
   "execution_count": 5,
   "id": "d1865582-fef5-41bb-8620-85e828d002cd",
   "metadata": {},
   "outputs": [
    {
     "name": "stderr",
     "output_type": "stream",
     "text": [
      "<ipython-input-5-75428b8a200e>:1: DeprecationWarning: The default dtype for empty Series will be 'object' instead of 'float64' in a future version. Specify a dtype explicitly to silence this warning.\n",
      "  x_new = pd.Series()\n"
     ]
    },
    {
     "data": {
      "text/plain": [
       "array([11])"
      ]
     },
     "execution_count": 5,
     "metadata": {},
     "output_type": "execute_result"
    }
   ],
   "source": [
    "x_new = pd.Series()\n",
    "x_new[\"Artist\"] = 16\n",
    "X_new_st = scaler.transform(pd.DataFrame([x_new]))\n",
    "model.predict(X=X_new_st)"
   ]
  },
  {
   "cell_type": "markdown",
   "id": "d8b1623d-627f-48e6-aa85-77660890a2ee",
   "metadata": {},
   "source": [
    "Peak Position prediction for Doja Cat: 11"
   ]
  },
  {
   "cell_type": "code",
   "execution_count": 6,
   "id": "ad3d58ff-174c-4447-9292-034a42061408",
   "metadata": {},
   "outputs": [
    {
     "name": "stderr",
     "output_type": "stream",
     "text": [
      "<ipython-input-6-a9ec02ec0f8f>:1: DeprecationWarning: The default dtype for empty Series will be 'object' instead of 'float64' in a future version. Specify a dtype explicitly to silence this warning.\n",
      "  x_new = pd.Series()\n"
     ]
    },
    {
     "data": {
      "text/plain": [
       "array([10])"
      ]
     },
     "execution_count": 6,
     "metadata": {},
     "output_type": "execute_result"
    }
   ],
   "source": [
    "x_new = pd.Series()\n",
    "x_new[\"Artist\"] = 4\n",
    "X_new_st = scaler.transform(pd.DataFrame([x_new]))\n",
    "model.predict(X=X_new_st)"
   ]
  },
  {
   "cell_type": "markdown",
   "id": "1642e1dd-b44c-45d5-bbb2-863e9b718070",
   "metadata": {},
   "source": [
    "Peak Position prediction for Billie Eilish: 10"
   ]
  },
  {
   "cell_type": "code",
   "execution_count": 7,
   "id": "9edce5b5-ff6f-4e9b-aefa-87de598f14e8",
   "metadata": {},
   "outputs": [
    {
     "name": "stderr",
     "output_type": "stream",
     "text": [
      "<ipython-input-7-0772c095693d>:1: DeprecationWarning: The default dtype for empty Series will be 'object' instead of 'float64' in a future version. Specify a dtype explicitly to silence this warning.\n",
      "  x_new = pd.Series()\n"
     ]
    },
    {
     "data": {
      "text/plain": [
       "array([1])"
      ]
     },
     "execution_count": 7,
     "metadata": {},
     "output_type": "execute_result"
    }
   ],
   "source": [
    "x_new = pd.Series()\n",
    "x_new[\"Artist\"] = 2\n",
    "X_new_st = scaler.transform(pd.DataFrame([x_new]))\n",
    "model.predict(X=X_new_st)"
   ]
  },
  {
   "cell_type": "markdown",
   "id": "a520ba04-b93f-445f-8b93-5c8a038d8ba5",
   "metadata": {},
   "source": [
    "Peak Position prediction for BTS: 1"
   ]
  },
  {
   "cell_type": "markdown",
   "id": "22f000de-bb13-4e84-9b4e-f0677de41579",
   "metadata": {},
   "source": [
    "## Peak Position Prediction Using All Variables"
   ]
  },
  {
   "cell_type": "markdown",
   "id": "b827eb4e-9dea-4729-84fe-2b26b43d326e",
   "metadata": {},
   "source": [
    "We want to predict what Peak Position for an artist's current song would be if it hasn't yet reached 1 based on data trained using all the columns and using K-Nearest Neighbors. We'll be using the same artists as last time for the same reasons."
   ]
  },
  {
   "cell_type": "code",
   "execution_count": 8,
   "id": "bd712655-d60e-4175-9df0-72fe8104cb31",
   "metadata": {},
   "outputs": [
    {
     "name": "stderr",
     "output_type": "stream",
     "text": [
      "<ipython-input-8-b55a8a28b29b>:5: DeprecationWarning: The default dtype for empty Series will be 'object' instead of 'float64' in a future version. Specify a dtype explicitly to silence this warning.\n",
      "  x_new = pd.Series()\n"
     ]
    },
    {
     "data": {
      "text/plain": [
       "array([1])"
      ]
     },
     "execution_count": 8,
     "metadata": {},
     "output_type": "execute_result"
    }
   ],
   "source": [
    "scaler = StandardScaler()\n",
    "\n",
    "X_train = df_bill[[\"Artist\", \"Current Position\", \"Last Week Position\", \"Weeks On Chart\", \"New to Chart?\"]]\n",
    "X_train_st = scaler.fit_transform(X_train)\n",
    "x_new = pd.Series()\n",
    "x_new[\"Artist\"] = 66\n",
    "x_new[\"Current Position\"] = 10\n",
    "x_new[\"Last Week Position\"] = 9\n",
    "x_new[\"Weeks On Chart\"] = 19\n",
    "x_new[\"New to Chart?\"] = 0\n",
    "X_new_st = scaler.transform(pd.DataFrame([x_new]))\n",
    "y_train = df_bill[\"Peak Position\"]\n",
    "\n",
    "model = KNeighborsClassifier(n_neighbors=5)\n",
    "model.fit(X=X_train_st, y=y_train)\n",
    "model.predict(X=X_new_st)"
   ]
  },
  {
   "cell_type": "markdown",
   "id": "28d6bf81-5736-446f-8431-02239f9ae810",
   "metadata": {},
   "source": [
    "Olivia Rodrigo's \"Deja Vu\" which has a Current Position at 10 and has reached a Peak Position of 3 according to the chart so far is predicted to reach a Peak Position of 1."
   ]
  },
  {
   "cell_type": "code",
   "execution_count": 9,
   "id": "0ab055c1-8785-40c6-9b9d-4ca5597ce49d",
   "metadata": {},
   "outputs": [
    {
     "name": "stderr",
     "output_type": "stream",
     "text": [
      "<ipython-input-9-d014b3d8ed2b>:1: DeprecationWarning: The default dtype for empty Series will be 'object' instead of 'float64' in a future version. Specify a dtype explicitly to silence this warning.\n",
      "  x_new = pd.Series()\n"
     ]
    },
    {
     "data": {
      "text/plain": [
       "array([20])"
      ]
     },
     "execution_count": 9,
     "metadata": {},
     "output_type": "execute_result"
    }
   ],
   "source": [
    "x_new = pd.Series()\n",
    "x_new[\"Artist\"] = 16\n",
    "x_new[\"Current Position\"] = 20\n",
    "x_new[\"Last Week Position\"] = 32\n",
    "x_new[\"Weeks On Chart\"] = 9\n",
    "x_new[\"New to Chart?\"] = 0\n",
    "X_new_st = scaler.transform(pd.DataFrame([x_new]))\n",
    "model.predict(X=X_new_st)"
   ]
  },
  {
   "cell_type": "markdown",
   "id": "f12ee356-5a99-4764-aa18-7ee0d1b7432d",
   "metadata": {},
   "source": [
    "Doja Cat's \"Need to Know\" which has a Current Position at 20 and has reached a Peak Position of 20 according to the chart so far is predicted to reach a Peak Position of 20, meaning this song won't move any higher than it already is on the chart."
   ]
  },
  {
   "cell_type": "code",
   "execution_count": 10,
   "id": "d07e7f25-65a0-4b41-9cef-3eed92f27139",
   "metadata": {},
   "outputs": [
    {
     "name": "stderr",
     "output_type": "stream",
     "text": [
      "<ipython-input-10-1168379a8c5f>:1: DeprecationWarning: The default dtype for empty Series will be 'object' instead of 'float64' in a future version. Specify a dtype explicitly to silence this warning.\n",
      "  x_new = pd.Series()\n"
     ]
    },
    {
     "data": {
      "text/plain": [
       "array([11])"
      ]
     },
     "execution_count": 10,
     "metadata": {},
     "output_type": "execute_result"
    }
   ],
   "source": [
    "x_new = pd.Series()\n",
    "x_new[\"Artist\"] = 4\n",
    "x_new[\"Current Position\"] = 13\n",
    "x_new[\"Last Week Position\"] = 11\n",
    "x_new[\"Weeks On Chart\"] = 2\n",
    "x_new[\"New to Chart?\"] = 0\n",
    "X_new_st = scaler.transform(pd.DataFrame([x_new]))\n",
    "model.predict(X=X_new_st)"
   ]
  },
  {
   "cell_type": "markdown",
   "id": "4d55f648-cfe7-4daf-ab83-49916eb2016e",
   "metadata": {},
   "source": [
    "Billie Eilish's \"Happier Than Ever\" which has a Current Position at 13 and has reached a Peak Position of 11 according to the chart so far is predicted to reach a Peak Position of 11, meaning this song won't move any higher than it already is on the chart."
   ]
  },
  {
   "cell_type": "code",
   "execution_count": 11,
   "id": "e24c20f0-4d94-41a1-88c5-510a28fb8b81",
   "metadata": {},
   "outputs": [
    {
     "name": "stderr",
     "output_type": "stream",
     "text": [
      "<ipython-input-11-cb2bde9ce8e0>:1: DeprecationWarning: The default dtype for empty Series will be 'object' instead of 'float64' in a future version. Specify a dtype explicitly to silence this warning.\n",
      "  x_new = pd.Series()\n"
     ]
    },
    {
     "data": {
      "text/plain": [
       "array([3])"
      ]
     },
     "execution_count": 11,
     "metadata": {},
     "output_type": "execute_result"
    }
   ],
   "source": [
    "x_new = pd.Series()\n",
    "x_new[\"Artist\"] = 2\n",
    "x_new[\"Current Position\"] = 7\n",
    "x_new[\"Last Week Position\"] = 4\n",
    "x_new[\"Weeks On Chart\"] = 12\n",
    "x_new[\"New to Chart?\"] = 0\n",
    "X_new_st = scaler.transform(pd.DataFrame([x_new]))\n",
    "model.predict(X=X_new_st)"
   ]
  },
  {
   "cell_type": "markdown",
   "id": "cede71b4-2a73-4374-a6fa-5d153f25e908",
   "metadata": {},
   "source": [
    "BTS's \"Butter\" which has a Current Position at 7 and has reached a Peak Position of 1 according to the chart so far is predicted to reach a Peak Position of only 3, meaning it has gone higher than our machine learning model could predict. I did this one out of curiosity to see how our model would match up to what the real life results are and it seems that the model didn't work here as well as it did in the previous scenarios."
   ]
  },
  {
   "cell_type": "markdown",
   "id": "cec84e1e-9f6c-4bcf-98ad-44b13c834bbe",
   "metadata": {},
   "source": [
    "## Peak Position Prediction Based Only on Artist and Newness"
   ]
  },
  {
   "cell_type": "markdown",
   "id": "28c8e23c-d182-405c-b5a3-56e5167be472",
   "metadata": {},
   "source": [
    "We want to predict what Peak Position for an artist's next song would be based on data trained using only the Artist column, New to Chart, and using K-Nearest Neighbors. We'll be using the same artists as last time for the same reasons, as well as The Weeknd as he is one of the popular artists at the top of the chart with a brand new song."
   ]
  },
  {
   "cell_type": "code",
   "execution_count": 12,
   "id": "ba00055b-e152-4b1f-9e76-4fdee16fb2d5",
   "metadata": {},
   "outputs": [
    {
     "name": "stderr",
     "output_type": "stream",
     "text": [
      "<ipython-input-12-0cc94b9c1912>:5: DeprecationWarning: The default dtype for empty Series will be 'object' instead of 'float64' in a future version. Specify a dtype explicitly to silence this warning.\n",
      "  x_new = pd.Series()\n"
     ]
    },
    {
     "data": {
      "text/plain": [
       "array([6])"
      ]
     },
     "execution_count": 12,
     "metadata": {},
     "output_type": "execute_result"
    }
   ],
   "source": [
    "scaler = StandardScaler()\n",
    "\n",
    "X_train = df_bill[[\"Artist\", \"New to Chart?\"]]\n",
    "X_train_st = scaler.fit_transform(X_train)\n",
    "x_new = pd.Series()\n",
    "x_new[\"Artist\"] = 82\n",
    "x_new[\"New to Chart?\"] = 1\n",
    "X_new_st = scaler.transform(pd.DataFrame([x_new]))\n",
    "y_train = df_bill[\"Peak Position\"]\n",
    "\n",
    "model = KNeighborsClassifier(n_neighbors=5)\n",
    "model.fit(X=X_train_st, y=y_train)\n",
    "model.predict(X=X_new_st)"
   ]
  },
  {
   "cell_type": "markdown",
   "id": "1a3d2fa7-78ab-454c-8a97-723117da6484",
   "metadata": {},
   "source": [
    "Peak Position prediction for The Weeknd based on being new to chart: 6"
   ]
  },
  {
   "cell_type": "code",
   "execution_count": 13,
   "id": "0c24969a-6f74-4e74-a7bb-ed060d5aef6b",
   "metadata": {},
   "outputs": [
    {
     "name": "stderr",
     "output_type": "stream",
     "text": [
      "<ipython-input-13-e38c21504527>:1: DeprecationWarning: The default dtype for empty Series will be 'object' instead of 'float64' in a future version. Specify a dtype explicitly to silence this warning.\n",
      "  x_new = pd.Series()\n"
     ]
    },
    {
     "data": {
      "text/plain": [
       "array([6])"
      ]
     },
     "execution_count": 13,
     "metadata": {},
     "output_type": "execute_result"
    }
   ],
   "source": [
    "x_new = pd.Series()\n",
    "x_new[\"Artist\"] = 66\n",
    "x_new[\"New to Chart?\"] = 1\n",
    "X_new_st = scaler.transform(pd.DataFrame([x_new]))\n",
    "model.predict(X=X_new_st)"
   ]
  },
  {
   "cell_type": "markdown",
   "id": "5a5e48d2-33a8-4dfd-815e-743ecfea49c4",
   "metadata": {},
   "source": [
    "Peak Position prediction for Olivia Rodrigo based on being new to chart: 6"
   ]
  },
  {
   "cell_type": "code",
   "execution_count": 14,
   "id": "4e80c978-8889-400b-aaca-c48ec61a65b6",
   "metadata": {},
   "outputs": [
    {
     "name": "stderr",
     "output_type": "stream",
     "text": [
      "<ipython-input-14-bcbad8bdd793>:1: DeprecationWarning: The default dtype for empty Series will be 'object' instead of 'float64' in a future version. Specify a dtype explicitly to silence this warning.\n",
      "  x_new = pd.Series()\n"
     ]
    },
    {
     "data": {
      "text/plain": [
       "array([67])"
      ]
     },
     "execution_count": 14,
     "metadata": {},
     "output_type": "execute_result"
    }
   ],
   "source": [
    "x_new = pd.Series()\n",
    "x_new[\"Artist\"] = 16\n",
    "x_new[\"New to Chart?\"] = 1\n",
    "X_new_st = scaler.transform(pd.DataFrame([x_new]))\n",
    "model.predict(X=X_new_st)"
   ]
  },
  {
   "cell_type": "markdown",
   "id": "c95b31af-e217-4680-9496-94c6e4d08b8d",
   "metadata": {},
   "source": [
    "Peak Position prediction for Doja Cat based on being new to chart: 67"
   ]
  },
  {
   "cell_type": "code",
   "execution_count": 15,
   "id": "a7c65526-2faa-4e7d-8b08-57561c61acb8",
   "metadata": {},
   "outputs": [
    {
     "name": "stderr",
     "output_type": "stream",
     "text": [
      "<ipython-input-15-b2374f84d09a>:1: DeprecationWarning: The default dtype for empty Series will be 'object' instead of 'float64' in a future version. Specify a dtype explicitly to silence this warning.\n",
      "  x_new = pd.Series()\n"
     ]
    },
    {
     "data": {
      "text/plain": [
       "array([67])"
      ]
     },
     "execution_count": 15,
     "metadata": {},
     "output_type": "execute_result"
    }
   ],
   "source": [
    "x_new = pd.Series()\n",
    "x_new[\"Artist\"] = 4\n",
    "x_new[\"New to Chart?\"] = 1\n",
    "X_new_st = scaler.transform(pd.DataFrame([x_new]))\n",
    "model.predict(X=X_new_st)"
   ]
  },
  {
   "cell_type": "markdown",
   "id": "3a96313d-4cb0-4fa2-9200-9aa0f254bd84",
   "metadata": {},
   "source": [
    "Peak Position prediction for Billie Eilish based on being new to chart: 67"
   ]
  },
  {
   "cell_type": "code",
   "execution_count": 16,
   "id": "599c163e-a32b-4058-8221-c5d472b5b6fa",
   "metadata": {},
   "outputs": [
    {
     "name": "stderr",
     "output_type": "stream",
     "text": [
      "<ipython-input-16-d4d5e9d5a94e>:1: DeprecationWarning: The default dtype for empty Series will be 'object' instead of 'float64' in a future version. Specify a dtype explicitly to silence this warning.\n",
      "  x_new = pd.Series()\n"
     ]
    },
    {
     "data": {
      "text/plain": [
       "array([67])"
      ]
     },
     "execution_count": 16,
     "metadata": {},
     "output_type": "execute_result"
    }
   ],
   "source": [
    "x_new = pd.Series()\n",
    "x_new[\"Artist\"] = 2\n",
    "x_new[\"New to Chart?\"] = 1\n",
    "X_new_st = scaler.transform(pd.DataFrame([x_new]))\n",
    "model.predict(X=X_new_st)"
   ]
  },
  {
   "cell_type": "markdown",
   "id": "0499f54f-7ba8-4faa-abf1-73741d2834b2",
   "metadata": {},
   "source": [
    "Peak Position prediction for BTS based on being new to chart: 67"
   ]
  },
  {
   "cell_type": "markdown",
   "id": "3038334c-27f2-4495-bc2b-332d0e51176b",
   "metadata": {},
   "source": [
    "One of the biggest flaws we found in our machine learning model is that it is unable to accurately predict Peak Position using New to Chart as one of it's only variables, most likely because there are not many data points in the chart for which New to Chart is True. As seen here, it predicts Peak Position accurately for The Weeknd as that artist has one song where New to Chart equals True, but only predicts semi-accurately for Olivia Rodrigo, and very inaccurately for the other artists such as Doja Cat, Billie Eilish, and BTS, for which none of them have New to Chart as True."
   ]
  }
 ],
 "metadata": {
  "kernelspec": {
   "display_name": "Python 3",
   "language": "python",
   "name": "python3"
  },
  "language_info": {
   "codemirror_mode": {
    "name": "ipython",
    "version": 3
   },
   "file_extension": ".py",
   "mimetype": "text/x-python",
   "name": "python",
   "nbconvert_exporter": "python",
   "pygments_lexer": "ipython3",
   "version": "3.8.10"
  }
 },
 "nbformat": 4,
 "nbformat_minor": 5
}
